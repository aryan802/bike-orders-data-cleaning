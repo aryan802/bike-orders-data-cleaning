{
  "nbformat": 4,
  "nbformat_minor": 0,
  "metadata": {
    "colab": {
      "provenance": [],
      "authorship_tag": "ABX9TyPbIRMNS2hqAWim+8RrrZ2y",
      "include_colab_link": true
    },
    "kernelspec": {
      "name": "python3",
      "display_name": "Python 3"
    },
    "language_info": {
      "name": "python"
    }
  },
  "cells": [
    {
      "cell_type": "markdown",
      "metadata": {
        "id": "view-in-github",
        "colab_type": "text"
      },
      "source": [
        "<a href=\"https://colab.research.google.com/github/aryan802/bike-orders-data-cleaning/blob/main/data_cleaning.ipynb\" target=\"_parent\"><img src=\"https://colab.research.google.com/assets/colab-badge.svg\" alt=\"Open In Colab\"/></a>"
      ]
    },
    {
      "cell_type": "markdown",
      "source": [
        "#  Data Cleaning\n",
        "In this section, we clean the `orders_bikes_dirty.csv` dataset:\n",
        "- Remove unnecessary columns\n",
        "- Handle missing values\n",
        "- Standardize data types\n",
        "- Remove duplicates\n"
      ],
      "metadata": {
        "id": "_T4mXkX9wVZE"
      }
    },
    {
      "cell_type": "markdown",
      "source": [
        "# 1. Mount Google Drive and Load Datasets\n",
        "We begin by mounting Google Drive to access the data files. Then, we load the three Excel files into pandas DataFrames:\n",
        "- **bikes.xlsx**: Contains details of bike products\n",
        "- **bikeshops.xlsx**: Contains details of bike shops/customers\n",
        "- **orders.xlsx**: Contains order details\n",
        "\n",
        "Finally, we inspect the shape, columns, and first few rows of each dataset.\n"
      ],
      "metadata": {
        "id": "aasqSpBfxQXz"
      }
    },
    {
      "cell_type": "code",
      "execution_count": 7,
      "metadata": {
        "id": "Qc2R0z--6xpb",
        "colab": {
          "base_uri": "https://localhost:8080/"
        },
        "outputId": "2b52020f-e05a-4646-ba67-fd62c3d127ef"
      },
      "outputs": [
        {
          "output_type": "stream",
          "name": "stdout",
          "text": [
            "Drive already mounted at /content/drive; to attempt to forcibly remount, call drive.mount(\"/content/drive\", force_remount=True).\n"
          ]
        },
        {
          "output_type": "stream",
          "name": "stderr",
          "text": [
            "/usr/local/lib/python3.12/dist-packages/openpyxl/styles/stylesheet.py:237: UserWarning: Workbook contains no default style, apply openpyxl's default\n",
            "  warn(\"Workbook contains no default style, apply openpyxl's default\")\n"
          ]
        },
        {
          "output_type": "stream",
          "name": "stdout",
          "text": [
            "Bikes Dataset:\n",
            "(97, 6)\n",
            "Index(['bike.id', 'model', 'category1', 'category2', 'frame', 'price'], dtype='object')\n",
            "   bike.id                           model category1   category2   frame  \\\n",
            "0        1         Supersix Evo Black Inc.      Road  Elite Road  Carbon   \n",
            "1        2        Supersix Evo Hi-Mod Team      Road  Elite Road  Carbon   \n",
            "2        3  Supersix Evo Hi-Mod Dura Ace 1      Road  Elite Road  Carbon   \n",
            "3        4  Supersix Evo Hi-Mod Dura Ace 2      Road  Elite Road  Carbon   \n",
            "4        5      Supersix Evo Hi-Mod Utegra      Road  Elite Road  Carbon   \n",
            "\n",
            "   price  \n",
            "0  12790  \n",
            "1  10660  \n",
            "2   7990  \n",
            "3   5330  \n",
            "4   4260   \n",
            "\n",
            "Bike Shops Dataset:\n",
            "(30, 6)\n",
            "Index(['bikeshop.id', 'bikeshop.name', 'bikeshop.city', 'bikeshop.state',\n",
            "       'latitude', 'longitude'],\n",
            "      dtype='object')\n",
            "   bikeshop.id                 bikeshop.name bikeshop.city bikeshop.state  \\\n",
            "0            1  Pittsburgh Mountain Machines    Pittsburgh             PA   \n",
            "1            2      Ithaca Mountain Climbers        Ithaca             NY   \n",
            "2            3       Columbus Race Equipment      Columbus             OH   \n",
            "3            4                Detroit Cycles       Detroit             MI   \n",
            "4            5              Cincinnati Speed    Cincinnati             OH   \n",
            "\n",
            "    latitude  longitude  \n",
            "0  40.440625 -79.995886  \n",
            "1  42.443961 -76.501881  \n",
            "2  39.961176 -82.998794  \n",
            "3  42.331427 -83.045754  \n",
            "4  39.103118 -84.512020   \n",
            "\n",
            "Orders Dataset:\n",
            "(15644, 7)\n",
            "Index(['Unnamed: 0', 'order.id', 'order.line', 'order.date', 'customer.id',\n",
            "       'product.id', 'quantity'],\n",
            "      dtype='object')\n",
            "   Unnamed: 0  order.id  order.line order.date  customer.id  product.id  \\\n",
            "0           1         1           1 2011-01-07            2          48   \n",
            "1           2         1           2 2011-01-07            2          52   \n",
            "2           3         2           1 2011-01-10           10          76   \n",
            "3           4         2           2 2011-01-10           10          52   \n",
            "4           5         3           1 2011-01-10            6           2   \n",
            "\n",
            "   quantity  \n",
            "0         1  \n",
            "1         1  \n",
            "2         1  \n",
            "3         1  \n",
            "4         1  \n"
          ]
        }
      ],
      "source": [
        "from google.colab import drive\n",
        "drive.mount('/content/drive')\n",
        "# !ls '/content/drive/My Drive/FDS-Project/data'\n",
        "# import os\n",
        "# print(os.getcwd())\n",
        "\n",
        "import pandas as pd\n",
        "\n",
        "# Load the three Excel files from the data folder\n",
        "bikes = pd.read_excel(\"/content/drive/My Drive/FDS-Project/data/bikes.xlsx\")\n",
        "bikeshops = pd.read_excel(\"/content/drive/My Drive/FDS-Project/data/bikeshops.xlsx\")\n",
        "orders = pd.read_excel(\"/content/drive/My Drive/FDS-Project/data/orders.xlsx\")\n",
        "\n",
        "# Display shape and columns for each dataset\n",
        "print(\"Bikes Dataset:\")\n",
        "print(bikes.shape)\n",
        "print(bikes.columns)\n",
        "print(bikes.head(), \"\\n\")\n",
        "\n",
        "print(\"Bike Shops Dataset:\")\n",
        "print(bikeshops.shape)\n",
        "print(bikeshops.columns)\n",
        "print(bikeshops.head(), \"\\n\")\n",
        "\n",
        "print(\"Orders Dataset:\")\n",
        "print(orders.shape)\n",
        "print(orders.columns)\n",
        "print(orders.head())\n",
        "\n"
      ]
    },
    {
      "cell_type": "markdown",
      "source": [
        "# 2. Merge the Datasets\n",
        "We merge the three datasets to form a single combined DataFrame:\n",
        "- **orders** and **bikes** merged on `product.id` and `bike.id`\n",
        "- Result merged with **bikeshops** on `customer.id` and `bikeshop.id`\n",
        "\n",
        "Also, we drop unnecessary columns like `Unnamed: 0` if present.\n"
      ],
      "metadata": {
        "id": "I7ih-XpfxTOj"
      }
    },
    {
      "cell_type": "code",
      "source": [
        "# Merge Orders with Bikes\n",
        "orders_bikes = orders.merge(bikes, left_on='product.id', right_on='bike.id', how='left')\n",
        "\n",
        "# Merge the above result with Bike Shops\n",
        "combined_df = orders_bikes.merge(bikeshops, left_on='customer.id', right_on='bikeshop.id', how='left')\n",
        "\n",
        "combined_df = combined_df.drop(columns=['Unnamed: 0'])\n",
        "\n",
        "\n",
        "print(\"Combined Dataset Shape:\", combined_df.shape)\n",
        "combined_df.head(10)\n",
        "\n",
        "\n",
        "\n"
      ],
      "metadata": {
        "colab": {
          "base_uri": "https://localhost:8080/",
          "height": 834
        },
        "id": "HAbHQPFti9vO",
        "outputId": "0a7495e7-4204-475f-ee69-4c734dca7994"
      },
      "execution_count": 16,
      "outputs": [
        {
          "output_type": "stream",
          "name": "stdout",
          "text": [
            "Combined Dataset Shape: (15644, 18)\n"
          ]
        },
        {
          "output_type": "execute_result",
          "data": {
            "text/plain": [
              "   order.id  order.line order.date  customer.id  product.id  quantity  \\\n",
              "0         1           1 2011-01-07            2          48         1   \n",
              "1         1           2 2011-01-07            2          52         1   \n",
              "2         2           1 2011-01-10           10          76         1   \n",
              "3         2           2 2011-01-10           10          52         1   \n",
              "4         3           1 2011-01-10            6           2         1   \n",
              "5         3           2 2011-01-10            6          50         1   \n",
              "6         3           3 2011-01-10            6           1         1   \n",
              "7         3           4 2011-01-10            6           4         1   \n",
              "8         3           5 2011-01-10            6          34         1   \n",
              "9         4           1 2011-01-11           22          26         1   \n",
              "\n",
              "   bike.id                            model category1       category2  \\\n",
              "0       48                  Jekyll Carbon 2  Mountain   Over Mountain   \n",
              "1       52                 Trigger Carbon 2  Mountain   Over Mountain   \n",
              "2       76              Beast of the East 1  Mountain           Trail   \n",
              "3       52                 Trigger Carbon 2  Mountain   Over Mountain   \n",
              "4        2         Supersix Evo Hi-Mod Team      Road      Elite Road   \n",
              "5       50                  Jekyll Carbon 4  Mountain   Over Mountain   \n",
              "6        1          Supersix Evo Black Inc.      Road      Elite Road   \n",
              "7        4   Supersix Evo Hi-Mod Dura Ace 2      Road      Elite Road   \n",
              "8       34                 Synapse Disc 105      Road  Endurance Road   \n",
              "9       26  Synapse Carbon Disc Ultegra D12      Road  Endurance Road   \n",
              "\n",
              "      frame  price  bikeshop.id              bikeshop.name bikeshop.city  \\\n",
              "0    Carbon   6070            2   Ithaca Mountain Climbers        Ithaca   \n",
              "1    Carbon   5970            2   Ithaca Mountain Climbers        Ithaca   \n",
              "2  Aluminum   2770           10          Kansas City 29ers   Kansas City   \n",
              "3    Carbon   5970           10          Kansas City 29ers   Kansas City   \n",
              "4    Carbon  10660            6  Louisville Race Equipment    Louisville   \n",
              "5    Carbon   3200            6  Louisville Race Equipment    Louisville   \n",
              "6    Carbon  12790            6  Louisville Race Equipment    Louisville   \n",
              "7    Carbon   5330            6  Louisville Race Equipment    Louisville   \n",
              "8  Aluminum   1570            6  Louisville Race Equipment    Louisville   \n",
              "9    Carbon   4800           22            Ann Arbor Speed     Ann Arbor   \n",
              "\n",
              "  bikeshop.state   latitude  longitude  \n",
              "0             NY  42.443961 -76.501881  \n",
              "1             NY  42.443961 -76.501881  \n",
              "2             KS  39.114053 -94.627464  \n",
              "3             KS  39.114053 -94.627464  \n",
              "4             KY  38.252665 -85.758456  \n",
              "5             KY  38.252665 -85.758456  \n",
              "6             KY  38.252665 -85.758456  \n",
              "7             KY  38.252665 -85.758456  \n",
              "8             KY  38.252665 -85.758456  \n",
              "9             MI  42.280826 -83.743038  "
            ],
            "text/html": [
              "\n",
              "  <div id=\"df-ea493311-8d07-48d2-96ad-2b0d8a406fde\" class=\"colab-df-container\">\n",
              "    <div>\n",
              "<style scoped>\n",
              "    .dataframe tbody tr th:only-of-type {\n",
              "        vertical-align: middle;\n",
              "    }\n",
              "\n",
              "    .dataframe tbody tr th {\n",
              "        vertical-align: top;\n",
              "    }\n",
              "\n",
              "    .dataframe thead th {\n",
              "        text-align: right;\n",
              "    }\n",
              "</style>\n",
              "<table border=\"1\" class=\"dataframe\">\n",
              "  <thead>\n",
              "    <tr style=\"text-align: right;\">\n",
              "      <th></th>\n",
              "      <th>order.id</th>\n",
              "      <th>order.line</th>\n",
              "      <th>order.date</th>\n",
              "      <th>customer.id</th>\n",
              "      <th>product.id</th>\n",
              "      <th>quantity</th>\n",
              "      <th>bike.id</th>\n",
              "      <th>model</th>\n",
              "      <th>category1</th>\n",
              "      <th>category2</th>\n",
              "      <th>frame</th>\n",
              "      <th>price</th>\n",
              "      <th>bikeshop.id</th>\n",
              "      <th>bikeshop.name</th>\n",
              "      <th>bikeshop.city</th>\n",
              "      <th>bikeshop.state</th>\n",
              "      <th>latitude</th>\n",
              "      <th>longitude</th>\n",
              "    </tr>\n",
              "  </thead>\n",
              "  <tbody>\n",
              "    <tr>\n",
              "      <th>0</th>\n",
              "      <td>1</td>\n",
              "      <td>1</td>\n",
              "      <td>2011-01-07</td>\n",
              "      <td>2</td>\n",
              "      <td>48</td>\n",
              "      <td>1</td>\n",
              "      <td>48</td>\n",
              "      <td>Jekyll Carbon 2</td>\n",
              "      <td>Mountain</td>\n",
              "      <td>Over Mountain</td>\n",
              "      <td>Carbon</td>\n",
              "      <td>6070</td>\n",
              "      <td>2</td>\n",
              "      <td>Ithaca Mountain Climbers</td>\n",
              "      <td>Ithaca</td>\n",
              "      <td>NY</td>\n",
              "      <td>42.443961</td>\n",
              "      <td>-76.501881</td>\n",
              "    </tr>\n",
              "    <tr>\n",
              "      <th>1</th>\n",
              "      <td>1</td>\n",
              "      <td>2</td>\n",
              "      <td>2011-01-07</td>\n",
              "      <td>2</td>\n",
              "      <td>52</td>\n",
              "      <td>1</td>\n",
              "      <td>52</td>\n",
              "      <td>Trigger Carbon 2</td>\n",
              "      <td>Mountain</td>\n",
              "      <td>Over Mountain</td>\n",
              "      <td>Carbon</td>\n",
              "      <td>5970</td>\n",
              "      <td>2</td>\n",
              "      <td>Ithaca Mountain Climbers</td>\n",
              "      <td>Ithaca</td>\n",
              "      <td>NY</td>\n",
              "      <td>42.443961</td>\n",
              "      <td>-76.501881</td>\n",
              "    </tr>\n",
              "    <tr>\n",
              "      <th>2</th>\n",
              "      <td>2</td>\n",
              "      <td>1</td>\n",
              "      <td>2011-01-10</td>\n",
              "      <td>10</td>\n",
              "      <td>76</td>\n",
              "      <td>1</td>\n",
              "      <td>76</td>\n",
              "      <td>Beast of the East 1</td>\n",
              "      <td>Mountain</td>\n",
              "      <td>Trail</td>\n",
              "      <td>Aluminum</td>\n",
              "      <td>2770</td>\n",
              "      <td>10</td>\n",
              "      <td>Kansas City 29ers</td>\n",
              "      <td>Kansas City</td>\n",
              "      <td>KS</td>\n",
              "      <td>39.114053</td>\n",
              "      <td>-94.627464</td>\n",
              "    </tr>\n",
              "    <tr>\n",
              "      <th>3</th>\n",
              "      <td>2</td>\n",
              "      <td>2</td>\n",
              "      <td>2011-01-10</td>\n",
              "      <td>10</td>\n",
              "      <td>52</td>\n",
              "      <td>1</td>\n",
              "      <td>52</td>\n",
              "      <td>Trigger Carbon 2</td>\n",
              "      <td>Mountain</td>\n",
              "      <td>Over Mountain</td>\n",
              "      <td>Carbon</td>\n",
              "      <td>5970</td>\n",
              "      <td>10</td>\n",
              "      <td>Kansas City 29ers</td>\n",
              "      <td>Kansas City</td>\n",
              "      <td>KS</td>\n",
              "      <td>39.114053</td>\n",
              "      <td>-94.627464</td>\n",
              "    </tr>\n",
              "    <tr>\n",
              "      <th>4</th>\n",
              "      <td>3</td>\n",
              "      <td>1</td>\n",
              "      <td>2011-01-10</td>\n",
              "      <td>6</td>\n",
              "      <td>2</td>\n",
              "      <td>1</td>\n",
              "      <td>2</td>\n",
              "      <td>Supersix Evo Hi-Mod Team</td>\n",
              "      <td>Road</td>\n",
              "      <td>Elite Road</td>\n",
              "      <td>Carbon</td>\n",
              "      <td>10660</td>\n",
              "      <td>6</td>\n",
              "      <td>Louisville Race Equipment</td>\n",
              "      <td>Louisville</td>\n",
              "      <td>KY</td>\n",
              "      <td>38.252665</td>\n",
              "      <td>-85.758456</td>\n",
              "    </tr>\n",
              "    <tr>\n",
              "      <th>5</th>\n",
              "      <td>3</td>\n",
              "      <td>2</td>\n",
              "      <td>2011-01-10</td>\n",
              "      <td>6</td>\n",
              "      <td>50</td>\n",
              "      <td>1</td>\n",
              "      <td>50</td>\n",
              "      <td>Jekyll Carbon 4</td>\n",
              "      <td>Mountain</td>\n",
              "      <td>Over Mountain</td>\n",
              "      <td>Carbon</td>\n",
              "      <td>3200</td>\n",
              "      <td>6</td>\n",
              "      <td>Louisville Race Equipment</td>\n",
              "      <td>Louisville</td>\n",
              "      <td>KY</td>\n",
              "      <td>38.252665</td>\n",
              "      <td>-85.758456</td>\n",
              "    </tr>\n",
              "    <tr>\n",
              "      <th>6</th>\n",
              "      <td>3</td>\n",
              "      <td>3</td>\n",
              "      <td>2011-01-10</td>\n",
              "      <td>6</td>\n",
              "      <td>1</td>\n",
              "      <td>1</td>\n",
              "      <td>1</td>\n",
              "      <td>Supersix Evo Black Inc.</td>\n",
              "      <td>Road</td>\n",
              "      <td>Elite Road</td>\n",
              "      <td>Carbon</td>\n",
              "      <td>12790</td>\n",
              "      <td>6</td>\n",
              "      <td>Louisville Race Equipment</td>\n",
              "      <td>Louisville</td>\n",
              "      <td>KY</td>\n",
              "      <td>38.252665</td>\n",
              "      <td>-85.758456</td>\n",
              "    </tr>\n",
              "    <tr>\n",
              "      <th>7</th>\n",
              "      <td>3</td>\n",
              "      <td>4</td>\n",
              "      <td>2011-01-10</td>\n",
              "      <td>6</td>\n",
              "      <td>4</td>\n",
              "      <td>1</td>\n",
              "      <td>4</td>\n",
              "      <td>Supersix Evo Hi-Mod Dura Ace 2</td>\n",
              "      <td>Road</td>\n",
              "      <td>Elite Road</td>\n",
              "      <td>Carbon</td>\n",
              "      <td>5330</td>\n",
              "      <td>6</td>\n",
              "      <td>Louisville Race Equipment</td>\n",
              "      <td>Louisville</td>\n",
              "      <td>KY</td>\n",
              "      <td>38.252665</td>\n",
              "      <td>-85.758456</td>\n",
              "    </tr>\n",
              "    <tr>\n",
              "      <th>8</th>\n",
              "      <td>3</td>\n",
              "      <td>5</td>\n",
              "      <td>2011-01-10</td>\n",
              "      <td>6</td>\n",
              "      <td>34</td>\n",
              "      <td>1</td>\n",
              "      <td>34</td>\n",
              "      <td>Synapse Disc 105</td>\n",
              "      <td>Road</td>\n",
              "      <td>Endurance Road</td>\n",
              "      <td>Aluminum</td>\n",
              "      <td>1570</td>\n",
              "      <td>6</td>\n",
              "      <td>Louisville Race Equipment</td>\n",
              "      <td>Louisville</td>\n",
              "      <td>KY</td>\n",
              "      <td>38.252665</td>\n",
              "      <td>-85.758456</td>\n",
              "    </tr>\n",
              "    <tr>\n",
              "      <th>9</th>\n",
              "      <td>4</td>\n",
              "      <td>1</td>\n",
              "      <td>2011-01-11</td>\n",
              "      <td>22</td>\n",
              "      <td>26</td>\n",
              "      <td>1</td>\n",
              "      <td>26</td>\n",
              "      <td>Synapse Carbon Disc Ultegra D12</td>\n",
              "      <td>Road</td>\n",
              "      <td>Endurance Road</td>\n",
              "      <td>Carbon</td>\n",
              "      <td>4800</td>\n",
              "      <td>22</td>\n",
              "      <td>Ann Arbor Speed</td>\n",
              "      <td>Ann Arbor</td>\n",
              "      <td>MI</td>\n",
              "      <td>42.280826</td>\n",
              "      <td>-83.743038</td>\n",
              "    </tr>\n",
              "  </tbody>\n",
              "</table>\n",
              "</div>\n",
              "    <div class=\"colab-df-buttons\">\n",
              "\n",
              "  <div class=\"colab-df-container\">\n",
              "    <button class=\"colab-df-convert\" onclick=\"convertToInteractive('df-ea493311-8d07-48d2-96ad-2b0d8a406fde')\"\n",
              "            title=\"Convert this dataframe to an interactive table.\"\n",
              "            style=\"display:none;\">\n",
              "\n",
              "  <svg xmlns=\"http://www.w3.org/2000/svg\" height=\"24px\" viewBox=\"0 -960 960 960\">\n",
              "    <path d=\"M120-120v-720h720v720H120Zm60-500h600v-160H180v160Zm220 220h160v-160H400v160Zm0 220h160v-160H400v160ZM180-400h160v-160H180v160Zm440 0h160v-160H620v160ZM180-180h160v-160H180v160Zm440 0h160v-160H620v160Z\"/>\n",
              "  </svg>\n",
              "    </button>\n",
              "\n",
              "  <style>\n",
              "    .colab-df-container {\n",
              "      display:flex;\n",
              "      gap: 12px;\n",
              "    }\n",
              "\n",
              "    .colab-df-convert {\n",
              "      background-color: #E8F0FE;\n",
              "      border: none;\n",
              "      border-radius: 50%;\n",
              "      cursor: pointer;\n",
              "      display: none;\n",
              "      fill: #1967D2;\n",
              "      height: 32px;\n",
              "      padding: 0 0 0 0;\n",
              "      width: 32px;\n",
              "    }\n",
              "\n",
              "    .colab-df-convert:hover {\n",
              "      background-color: #E2EBFA;\n",
              "      box-shadow: 0px 1px 2px rgba(60, 64, 67, 0.3), 0px 1px 3px 1px rgba(60, 64, 67, 0.15);\n",
              "      fill: #174EA6;\n",
              "    }\n",
              "\n",
              "    .colab-df-buttons div {\n",
              "      margin-bottom: 4px;\n",
              "    }\n",
              "\n",
              "    [theme=dark] .colab-df-convert {\n",
              "      background-color: #3B4455;\n",
              "      fill: #D2E3FC;\n",
              "    }\n",
              "\n",
              "    [theme=dark] .colab-df-convert:hover {\n",
              "      background-color: #434B5C;\n",
              "      box-shadow: 0px 1px 3px 1px rgba(0, 0, 0, 0.15);\n",
              "      filter: drop-shadow(0px 1px 2px rgba(0, 0, 0, 0.3));\n",
              "      fill: #FFFFFF;\n",
              "    }\n",
              "  </style>\n",
              "\n",
              "    <script>\n",
              "      const buttonEl =\n",
              "        document.querySelector('#df-ea493311-8d07-48d2-96ad-2b0d8a406fde button.colab-df-convert');\n",
              "      buttonEl.style.display =\n",
              "        google.colab.kernel.accessAllowed ? 'block' : 'none';\n",
              "\n",
              "      async function convertToInteractive(key) {\n",
              "        const element = document.querySelector('#df-ea493311-8d07-48d2-96ad-2b0d8a406fde');\n",
              "        const dataTable =\n",
              "          await google.colab.kernel.invokeFunction('convertToInteractive',\n",
              "                                                    [key], {});\n",
              "        if (!dataTable) return;\n",
              "\n",
              "        const docLinkHtml = 'Like what you see? Visit the ' +\n",
              "          '<a target=\"_blank\" href=https://colab.research.google.com/notebooks/data_table.ipynb>data table notebook</a>'\n",
              "          + ' to learn more about interactive tables.';\n",
              "        element.innerHTML = '';\n",
              "        dataTable['output_type'] = 'display_data';\n",
              "        await google.colab.output.renderOutput(dataTable, element);\n",
              "        const docLink = document.createElement('div');\n",
              "        docLink.innerHTML = docLinkHtml;\n",
              "        element.appendChild(docLink);\n",
              "      }\n",
              "    </script>\n",
              "  </div>\n",
              "\n",
              "\n",
              "    <div id=\"df-910a68c3-db5e-4651-a9ee-e6579efbdc8d\">\n",
              "      <button class=\"colab-df-quickchart\" onclick=\"quickchart('df-910a68c3-db5e-4651-a9ee-e6579efbdc8d')\"\n",
              "                title=\"Suggest charts\"\n",
              "                style=\"display:none;\">\n",
              "\n",
              "<svg xmlns=\"http://www.w3.org/2000/svg\" height=\"24px\"viewBox=\"0 0 24 24\"\n",
              "     width=\"24px\">\n",
              "    <g>\n",
              "        <path d=\"M19 3H5c-1.1 0-2 .9-2 2v14c0 1.1.9 2 2 2h14c1.1 0 2-.9 2-2V5c0-1.1-.9-2-2-2zM9 17H7v-7h2v7zm4 0h-2V7h2v10zm4 0h-2v-4h2v4z\"/>\n",
              "    </g>\n",
              "</svg>\n",
              "      </button>\n",
              "\n",
              "<style>\n",
              "  .colab-df-quickchart {\n",
              "      --bg-color: #E8F0FE;\n",
              "      --fill-color: #1967D2;\n",
              "      --hover-bg-color: #E2EBFA;\n",
              "      --hover-fill-color: #174EA6;\n",
              "      --disabled-fill-color: #AAA;\n",
              "      --disabled-bg-color: #DDD;\n",
              "  }\n",
              "\n",
              "  [theme=dark] .colab-df-quickchart {\n",
              "      --bg-color: #3B4455;\n",
              "      --fill-color: #D2E3FC;\n",
              "      --hover-bg-color: #434B5C;\n",
              "      --hover-fill-color: #FFFFFF;\n",
              "      --disabled-bg-color: #3B4455;\n",
              "      --disabled-fill-color: #666;\n",
              "  }\n",
              "\n",
              "  .colab-df-quickchart {\n",
              "    background-color: var(--bg-color);\n",
              "    border: none;\n",
              "    border-radius: 50%;\n",
              "    cursor: pointer;\n",
              "    display: none;\n",
              "    fill: var(--fill-color);\n",
              "    height: 32px;\n",
              "    padding: 0;\n",
              "    width: 32px;\n",
              "  }\n",
              "\n",
              "  .colab-df-quickchart:hover {\n",
              "    background-color: var(--hover-bg-color);\n",
              "    box-shadow: 0 1px 2px rgba(60, 64, 67, 0.3), 0 1px 3px 1px rgba(60, 64, 67, 0.15);\n",
              "    fill: var(--button-hover-fill-color);\n",
              "  }\n",
              "\n",
              "  .colab-df-quickchart-complete:disabled,\n",
              "  .colab-df-quickchart-complete:disabled:hover {\n",
              "    background-color: var(--disabled-bg-color);\n",
              "    fill: var(--disabled-fill-color);\n",
              "    box-shadow: none;\n",
              "  }\n",
              "\n",
              "  .colab-df-spinner {\n",
              "    border: 2px solid var(--fill-color);\n",
              "    border-color: transparent;\n",
              "    border-bottom-color: var(--fill-color);\n",
              "    animation:\n",
              "      spin 1s steps(1) infinite;\n",
              "  }\n",
              "\n",
              "  @keyframes spin {\n",
              "    0% {\n",
              "      border-color: transparent;\n",
              "      border-bottom-color: var(--fill-color);\n",
              "      border-left-color: var(--fill-color);\n",
              "    }\n",
              "    20% {\n",
              "      border-color: transparent;\n",
              "      border-left-color: var(--fill-color);\n",
              "      border-top-color: var(--fill-color);\n",
              "    }\n",
              "    30% {\n",
              "      border-color: transparent;\n",
              "      border-left-color: var(--fill-color);\n",
              "      border-top-color: var(--fill-color);\n",
              "      border-right-color: var(--fill-color);\n",
              "    }\n",
              "    40% {\n",
              "      border-color: transparent;\n",
              "      border-right-color: var(--fill-color);\n",
              "      border-top-color: var(--fill-color);\n",
              "    }\n",
              "    60% {\n",
              "      border-color: transparent;\n",
              "      border-right-color: var(--fill-color);\n",
              "    }\n",
              "    80% {\n",
              "      border-color: transparent;\n",
              "      border-right-color: var(--fill-color);\n",
              "      border-bottom-color: var(--fill-color);\n",
              "    }\n",
              "    90% {\n",
              "      border-color: transparent;\n",
              "      border-bottom-color: var(--fill-color);\n",
              "    }\n",
              "  }\n",
              "</style>\n",
              "\n",
              "      <script>\n",
              "        async function quickchart(key) {\n",
              "          const quickchartButtonEl =\n",
              "            document.querySelector('#' + key + ' button');\n",
              "          quickchartButtonEl.disabled = true;  // To prevent multiple clicks.\n",
              "          quickchartButtonEl.classList.add('colab-df-spinner');\n",
              "          try {\n",
              "            const charts = await google.colab.kernel.invokeFunction(\n",
              "                'suggestCharts', [key], {});\n",
              "          } catch (error) {\n",
              "            console.error('Error during call to suggestCharts:', error);\n",
              "          }\n",
              "          quickchartButtonEl.classList.remove('colab-df-spinner');\n",
              "          quickchartButtonEl.classList.add('colab-df-quickchart-complete');\n",
              "        }\n",
              "        (() => {\n",
              "          let quickchartButtonEl =\n",
              "            document.querySelector('#df-910a68c3-db5e-4651-a9ee-e6579efbdc8d button');\n",
              "          quickchartButtonEl.style.display =\n",
              "            google.colab.kernel.accessAllowed ? 'block' : 'none';\n",
              "        })();\n",
              "      </script>\n",
              "    </div>\n",
              "\n",
              "    </div>\n",
              "  </div>\n"
            ],
            "application/vnd.google.colaboratory.intrinsic+json": {
              "type": "dataframe",
              "variable_name": "combined_df",
              "summary": "{\n  \"name\": \"combined_df\",\n  \"rows\": 15644,\n  \"fields\": [\n    {\n      \"column\": \"order.id\",\n      \"properties\": {\n        \"dtype\": \"number\",\n        \"std\": 569,\n        \"min\": 1,\n        \"max\": 2000,\n        \"num_unique_values\": 2000,\n        \"samples\": [\n          1861,\n          354,\n          1334\n        ],\n        \"semantic_type\": \"\",\n        \"description\": \"\"\n      }\n    },\n    {\n      \"column\": \"order.line\",\n      \"properties\": {\n        \"dtype\": \"number\",\n        \"std\": 6,\n        \"min\": 1,\n        \"max\": 30,\n        \"num_unique_values\": 30,\n        \"samples\": [\n          28,\n          16,\n          24\n        ],\n        \"semantic_type\": \"\",\n        \"description\": \"\"\n      }\n    },\n    {\n      \"column\": \"order.date\",\n      \"properties\": {\n        \"dtype\": \"date\",\n        \"min\": \"2011-01-07 00:00:00\",\n        \"max\": \"2015-12-25 00:00:00\",\n        \"num_unique_values\": 962,\n        \"samples\": [\n          \"2012-11-15 00:00:00\",\n          \"2013-02-07 00:00:00\",\n          \"2012-11-28 00:00:00\"\n        ],\n        \"semantic_type\": \"\",\n        \"description\": \"\"\n      }\n    },\n    {\n      \"column\": \"customer.id\",\n      \"properties\": {\n        \"dtype\": \"number\",\n        \"std\": 7,\n        \"min\": 1,\n        \"max\": 30,\n        \"num_unique_values\": 30,\n        \"samples\": [\n          4,\n          21,\n          27\n        ],\n        \"semantic_type\": \"\",\n        \"description\": \"\"\n      }\n    },\n    {\n      \"column\": \"product.id\",\n      \"properties\": {\n        \"dtype\": \"number\",\n        \"std\": 28,\n        \"min\": 1,\n        \"max\": 97,\n        \"num_unique_values\": 97,\n        \"samples\": [\n          85,\n          22,\n          81\n        ],\n        \"semantic_type\": \"\",\n        \"description\": \"\"\n      }\n    },\n    {\n      \"column\": \"quantity\",\n      \"properties\": {\n        \"dtype\": \"number\",\n        \"std\": 0,\n        \"min\": 1,\n        \"max\": 10,\n        \"num_unique_values\": 10,\n        \"samples\": [\n          10,\n          2,\n          7\n        ],\n        \"semantic_type\": \"\",\n        \"description\": \"\"\n      }\n    },\n    {\n      \"column\": \"bike.id\",\n      \"properties\": {\n        \"dtype\": \"number\",\n        \"std\": 28,\n        \"min\": 1,\n        \"max\": 97,\n        \"num_unique_values\": 97,\n        \"samples\": [\n          85,\n          22,\n          81\n        ],\n        \"semantic_type\": \"\",\n        \"description\": \"\"\n      }\n    },\n    {\n      \"column\": \"model\",\n      \"properties\": {\n        \"dtype\": \"category\",\n        \"num_unique_values\": 97,\n        \"samples\": [\n          \"Habit Carbon 3\",\n          \"Synapse Hi-Mod Disc Black Inc.\",\n          \"Habit Hi-Mod Black Inc.\"\n        ],\n        \"semantic_type\": \"\",\n        \"description\": \"\"\n      }\n    },\n    {\n      \"column\": \"category1\",\n      \"properties\": {\n        \"dtype\": \"category\",\n        \"num_unique_values\": 2,\n        \"samples\": [\n          \"Road\",\n          \"Mountain\"\n        ],\n        \"semantic_type\": \"\",\n        \"description\": \"\"\n      }\n    },\n    {\n      \"column\": \"category2\",\n      \"properties\": {\n        \"dtype\": \"category\",\n        \"num_unique_values\": 9,\n        \"samples\": [\n          \"Triathalon\",\n          \"Trail\"\n        ],\n        \"semantic_type\": \"\",\n        \"description\": \"\"\n      }\n    },\n    {\n      \"column\": \"frame\",\n      \"properties\": {\n        \"dtype\": \"category\",\n        \"num_unique_values\": 2,\n        \"samples\": [\n          \"Aluminum\",\n          \"Carbon\"\n        ],\n        \"semantic_type\": \"\",\n        \"description\": \"\"\n      }\n    },\n    {\n      \"column\": \"price\",\n      \"properties\": {\n        \"dtype\": \"number\",\n        \"std\": 2667,\n        \"min\": 415,\n        \"max\": 12790,\n        \"num_unique_values\": 53,\n        \"samples\": [\n          1410,\n          2130\n        ],\n        \"semantic_type\": \"\",\n        \"description\": \"\"\n      }\n    },\n    {\n      \"column\": \"bikeshop.id\",\n      \"properties\": {\n        \"dtype\": \"number\",\n        \"std\": 7,\n        \"min\": 1,\n        \"max\": 30,\n        \"num_unique_values\": 30,\n        \"samples\": [\n          4,\n          21\n        ],\n        \"semantic_type\": \"\",\n        \"description\": \"\"\n      }\n    },\n    {\n      \"column\": \"bikeshop.name\",\n      \"properties\": {\n        \"dtype\": \"category\",\n        \"num_unique_values\": 30,\n        \"samples\": [\n          \"Detroit Cycles\",\n          \"Seattle Race Equipment\"\n        ],\n        \"semantic_type\": \"\",\n        \"description\": \"\"\n      }\n    },\n    {\n      \"column\": \"bikeshop.city\",\n      \"properties\": {\n        \"dtype\": \"category\",\n        \"num_unique_values\": 30,\n        \"samples\": [\n          \"Detroit\",\n          \"Seattle\"\n        ],\n        \"semantic_type\": \"\",\n        \"description\": \"\"\n      }\n    },\n    {\n      \"column\": \"bikeshop.state\",\n      \"properties\": {\n        \"dtype\": \"category\",\n        \"num_unique_values\": 21,\n        \"samples\": [\n          \"NY\",\n          \"RI\"\n        ],\n        \"semantic_type\": \"\",\n        \"description\": \"\"\n      }\n    },\n    {\n      \"column\": \"latitude\",\n      \"properties\": {\n        \"dtype\": \"number\",\n        \"std\": 4.5919130088771265,\n        \"min\": 25.76168,\n        \"max\": 47.606209,\n        \"num_unique_values\": 30,\n        \"samples\": [\n          42.331427,\n          47.606209\n        ],\n        \"semantic_type\": \"\",\n        \"description\": \"\"\n      }\n    },\n    {\n      \"column\": \"longitude\",\n      \"properties\": {\n        \"dtype\": \"number\",\n        \"std\": 13.423425089791778,\n        \"min\": -122.676482,\n        \"max\": -71.412834,\n        \"num_unique_values\": 30,\n        \"samples\": [\n          -83.045754,\n          -122.332071\n        ],\n        \"semantic_type\": \"\",\n        \"description\": \"\"\n      }\n    }\n  ]\n}"
            }
          },
          "metadata": {},
          "execution_count": 16
        }
      ]
    },
    {
      "cell_type": "markdown",
      "source": [
        "# 3. Inspect Combined Dataset\n",
        "Check the shape, data types, and column names of the combined dataset to understand its structure before proceeding.\n"
      ],
      "metadata": {
        "id": "ItpEzUbjxWd7"
      }
    },
    {
      "cell_type": "code",
      "source": [
        "print(combined_df.shape)\n",
        "print(combined_df.dtypes)\n",
        "print(combined_df.columns.tolist())\n"
      ],
      "metadata": {
        "colab": {
          "base_uri": "https://localhost:8080/"
        },
        "id": "zBB6hlaTl9Mw",
        "outputId": "db5a4e17-b7f4-4e78-bee8-03890db3dd9e"
      },
      "execution_count": 28,
      "outputs": [
        {
          "output_type": "stream",
          "name": "stdout",
          "text": [
            "(15644, 18)\n",
            "order.id                   int64\n",
            "order.line                 int64\n",
            "order.date        datetime64[ns]\n",
            "customer.id                int64\n",
            "product.id                 int64\n",
            "quantity                   int64\n",
            "bike.id                    int64\n",
            "model                     object\n",
            "category1                 object\n",
            "category2                 object\n",
            "frame                     object\n",
            "price                      int64\n",
            "bikeshop.id                int64\n",
            "bikeshop.name             object\n",
            "bikeshop.city             object\n",
            "bikeshop.state            object\n",
            "latitude                 float64\n",
            "longitude                float64\n",
            "dtype: object\n",
            "['order.id', 'order.line', 'order.date', 'customer.id', 'product.id', 'quantity', 'bike.id', 'model', 'category1', 'category2', 'frame', 'price', 'bikeshop.id', 'bikeshop.name', 'bikeshop.city', 'bikeshop.state', 'latitude', 'longitude']\n"
          ]
        }
      ]
    },
    {
      "cell_type": "markdown",
      "source": [
        "# 4. Save Combined Dataset as CSV\n",
        "Export the combined dataset into a CSV file (`orders_bikes.csv`) for further manipulation.\n"
      ],
      "metadata": {
        "id": "WNKQsiQkxb_K"
      }
    },
    {
      "cell_type": "code",
      "source": [
        "orders_bikes.to_csv('/content/drive/My Drive/FDS-Project/data/orders_bikes.csv', index=False)\n",
        "\n",
        "\n"
      ],
      "metadata": {
        "id": "6RR2QWoIm1KV"
      },
      "execution_count": 29,
      "outputs": []
    },
    {
      "cell_type": "markdown",
      "source": [
        "# 5. Check Data Quality Issues\n",
        "Before introducing errors for demonstration, let's check:\n",
        "- Missing values count\n",
        "- Summary statistics\n",
        "- Duplicate row count\n"
      ],
      "metadata": {
        "id": "HJoTZuM6xeqr"
      }
    },
    {
      "cell_type": "code",
      "source": [
        "orders_bikes.info()\n",
        "orders_bikes.describe()\n",
        "orders_bikes.isnull().sum()\n",
        "orders_bikes.duplicated().sum()\n"
      ],
      "metadata": {
        "colab": {
          "base_uri": "https://localhost:8080/"
        },
        "id": "ZfZuEXzZo2j8",
        "outputId": "cbab11bc-5cb7-4253-9ff4-7fa6c7556e57"
      },
      "execution_count": 30,
      "outputs": [
        {
          "output_type": "stream",
          "name": "stdout",
          "text": [
            "<class 'pandas.core.frame.DataFrame'>\n",
            "RangeIndex: 15674 entries, 0 to 15673\n",
            "Data columns (total 12 columns):\n",
            " #   Column       Non-Null Count  Dtype         \n",
            "---  ------       --------------  -----         \n",
            " 0   order.id     15674 non-null  int64         \n",
            " 1   order.line   15674 non-null  int64         \n",
            " 2   order.date   15674 non-null  datetime64[ns]\n",
            " 3   customer.id  15674 non-null  int64         \n",
            " 4   product.id   15674 non-null  int64         \n",
            " 5   quantity     15674 non-null  int64         \n",
            " 6   bike.id      15674 non-null  int64         \n",
            " 7   model        15674 non-null  object        \n",
            " 8   category1    15674 non-null  object        \n",
            " 9   category2    15674 non-null  object        \n",
            " 10  frame        15674 non-null  object        \n",
            " 11  price        15674 non-null  int64         \n",
            "dtypes: datetime64[ns](1), int64(7), object(4)\n",
            "memory usage: 1.4+ MB\n"
          ]
        },
        {
          "output_type": "execute_result",
          "data": {
            "text/plain": [
              "np.int64(30)"
            ]
          },
          "metadata": {},
          "execution_count": 30
        }
      ]
    },
    {
      "cell_type": "markdown",
      "source": [
        "# 6. Create Dirty Dataset for Project Demonstration\n",
        "To demonstrate data cleaning techniques, we intentionally introduce common data quality issues:\n",
        "- Insert missing values (`?`) in **category1**, **price**, and **order.date**\n",
        "- Add `unknown` values in **price**\n",
        "- Duplicate some rows\n",
        "- Introduce extreme outliers in **quantity** (set to 999) and **price** (set to 100000)\n",
        "\n",
        "Finally, save this dirty dataset as `orders_bikes_dirty.csv`.\n"
      ],
      "metadata": {
        "id": "mH3dd6HkxhmK"
      }
    },
    {
      "cell_type": "code",
      "source": [
        "import numpy as np\n",
        "\n",
        "# Add '?' in category1\n",
        "orders_bikes.loc[np.random.choice(orders_bikes.index, 50), 'category1'] = '?'\n",
        "\n",
        "# Add '?' in price\n",
        "orders_bikes.loc[np.random.choice(orders_bikes.index, 30), 'price'] = '?'\n",
        "\n",
        "# Add '?' in order.date\n",
        "orders_bikes.loc[np.random.choice(orders_bikes.index, 20), 'order.date'] = '?'\n",
        "\n",
        "# Sample 10 random rows and append to dataframe\n",
        "duplicates = orders_bikes.sample(10)\n",
        "orders_bikes = pd.concat([orders_bikes, duplicates], ignore_index=True)\n",
        "\n",
        "# Sample 10 random rows and append to dataframe\n",
        "duplicates = orders_bikes.sample(10)\n",
        "orders_bikes = pd.concat([orders_bikes, duplicates], ignore_index=True)\n",
        "\n",
        "orders_bikes.loc[np.random.choice(orders_bikes.index, 20), 'price'] = 'unknown'\n",
        "\n",
        "# Extreme quantity outliers\n",
        "orders_bikes.loc[np.random.choice(orders_bikes.index, 10), 'quantity'] = 999\n",
        "\n",
        "# Extreme price outliers\n",
        "orders_bikes.loc[np.random.choice(orders_bikes.index, 10), 'price'] = 100000\n",
        "\n",
        "orders_bikes.to_csv('/content/drive/My Drive/FDS-Project/data/orders_bikes_dirty.csv', index=False)\n"
      ],
      "metadata": {
        "colab": {
          "base_uri": "https://localhost:8080/"
        },
        "id": "hyvvvdlko3K1",
        "outputId": "83ce0720-47cc-4162-d0e5-ba610ba544f8"
      },
      "execution_count": 32,
      "outputs": [
        {
          "output_type": "stream",
          "name": "stderr",
          "text": [
            "/tmp/ipython-input-1494036031.py:7: FutureWarning: Setting an item of incompatible dtype is deprecated and will raise an error in a future version of pandas. Value '?' has dtype incompatible with int64, please explicitly cast to a compatible dtype first.\n",
            "  orders_bikes.loc[np.random.choice(orders_bikes.index, 30), 'price'] = '?'\n",
            "/tmp/ipython-input-1494036031.py:10: FutureWarning: Setting an item of incompatible dtype is deprecated and will raise an error in a future version of pandas. Value '?' has dtype incompatible with datetime64[ns], please explicitly cast to a compatible dtype first.\n",
            "  orders_bikes.loc[np.random.choice(orders_bikes.index, 20), 'order.date'] = '?'\n"
          ]
        }
      ]
    },
    {
      "cell_type": "markdown",
      "source": [
        "# 7. Load the Dirty Dataset\n",
        "Read the newly created `orders_bikes_dirty.csv` file to start the cleaning process.\n"
      ],
      "metadata": {
        "id": "ksyLJEPOxkw6"
      }
    },
    {
      "cell_type": "code",
      "source": [
        "orders_bikes = pd.read_csv('/content/drive/My Drive/FDS-Project/data/orders_bikes_dirty.csv')\n",
        "print(orders_bikes.info())\n"
      ],
      "metadata": {
        "colab": {
          "base_uri": "https://localhost:8080/"
        },
        "id": "1I2DgN5itS_g",
        "outputId": "9e082de6-27e6-443a-f1e4-274f8d2b92e8"
      },
      "execution_count": 33,
      "outputs": [
        {
          "output_type": "stream",
          "name": "stdout",
          "text": [
            "<class 'pandas.core.frame.DataFrame'>\n",
            "RangeIndex: 15694 entries, 0 to 15693\n",
            "Data columns (total 12 columns):\n",
            " #   Column       Non-Null Count  Dtype \n",
            "---  ------       --------------  ----- \n",
            " 0   order.id     15694 non-null  int64 \n",
            " 1   order.line   15694 non-null  int64 \n",
            " 2   order.date   15694 non-null  object\n",
            " 3   customer.id  15694 non-null  int64 \n",
            " 4   product.id   15694 non-null  int64 \n",
            " 5   quantity     15694 non-null  int64 \n",
            " 6   bike.id      15694 non-null  int64 \n",
            " 7   model        15694 non-null  object\n",
            " 8   category1    15694 non-null  object\n",
            " 9   category2    15694 non-null  object\n",
            " 10  frame        15694 non-null  object\n",
            " 11  price        15694 non-null  object\n",
            "dtypes: int64(6), object(6)\n",
            "memory usage: 1.4+ MB\n",
            "None\n"
          ]
        }
      ]
    },
    {
      "cell_type": "markdown",
      "source": [
        "# 8. Handle Missing Values and Data Types\n",
        "Steps:\n",
        "- Replace `?` and `unknown` with `NaN`\n",
        "- Convert `order.date` to datetime (invalid values become NaT)\n",
        "- Convert **price** to numeric and fill missing values with the median price\n",
        "- Fill missing **category1** with 'Unknown'\n",
        "- Fill missing dates with the median date\n"
      ],
      "metadata": {
        "id": "XXN0fABvxmw6"
      }
    },
    {
      "cell_type": "code",
      "source": [
        "import numpy as np\n",
        "\n",
        "# Replace '?' and 'unknown' with NaN\n",
        "orders_bikes.replace({'?': np.nan, 'unknown': np.nan}, inplace=True)\n",
        "\n",
        "# Convert order.date to datetime (errors='coerce' will turn invalid values into NaT)\n",
        "orders_bikes['order.date'] = pd.to_datetime(orders_bikes['order.date'], errors='coerce')\n",
        "\n",
        "# Fill missing values\n",
        "orders_bikes['price'] = pd.to_numeric(orders_bikes['price'], errors='coerce')  # Convert to numeric\n",
        "orders_bikes['price'].fillna(orders_bikes['price'].median(), inplace=True)\n",
        "orders_bikes['category1'].fillna('Unknown', inplace=True)\n",
        "orders_bikes['order.date'].fillna(orders_bikes['order.date'].median(), inplace=True)  # median date\n"
      ],
      "metadata": {
        "colab": {
          "base_uri": "https://localhost:8080/"
        },
        "id": "tQI2CaUNuWBQ",
        "outputId": "e55a0597-0fc3-4b41-a83b-efb3f7da31eb"
      },
      "execution_count": 34,
      "outputs": [
        {
          "output_type": "stream",
          "name": "stderr",
          "text": [
            "/tmp/ipython-input-1913598624.py:11: FutureWarning: A value is trying to be set on a copy of a DataFrame or Series through chained assignment using an inplace method.\n",
            "The behavior will change in pandas 3.0. This inplace method will never work because the intermediate object on which we are setting values always behaves as a copy.\n",
            "\n",
            "For example, when doing 'df[col].method(value, inplace=True)', try using 'df.method({col: value}, inplace=True)' or df[col] = df[col].method(value) instead, to perform the operation inplace on the original object.\n",
            "\n",
            "\n",
            "  orders_bikes['price'].fillna(orders_bikes['price'].median(), inplace=True)\n",
            "/tmp/ipython-input-1913598624.py:12: FutureWarning: A value is trying to be set on a copy of a DataFrame or Series through chained assignment using an inplace method.\n",
            "The behavior will change in pandas 3.0. This inplace method will never work because the intermediate object on which we are setting values always behaves as a copy.\n",
            "\n",
            "For example, when doing 'df[col].method(value, inplace=True)', try using 'df.method({col: value}, inplace=True)' or df[col] = df[col].method(value) instead, to perform the operation inplace on the original object.\n",
            "\n",
            "\n",
            "  orders_bikes['category1'].fillna('Unknown', inplace=True)\n",
            "/tmp/ipython-input-1913598624.py:13: FutureWarning: A value is trying to be set on a copy of a DataFrame or Series through chained assignment using an inplace method.\n",
            "The behavior will change in pandas 3.0. This inplace method will never work because the intermediate object on which we are setting values always behaves as a copy.\n",
            "\n",
            "For example, when doing 'df[col].method(value, inplace=True)', try using 'df.method({col: value}, inplace=True)' or df[col] = df[col].method(value) instead, to perform the operation inplace on the original object.\n",
            "\n",
            "\n",
            "  orders_bikes['order.date'].fillna(orders_bikes['order.date'].median(), inplace=True)  # median date\n"
          ]
        }
      ]
    },
    {
      "cell_type": "markdown",
      "source": [
        "# 9. Remove Duplicates\n",
        "Drop any fully duplicated rows from the dataset.\n"
      ],
      "metadata": {
        "id": "y4kHPfiIxpGa"
      }
    },
    {
      "cell_type": "code",
      "source": [
        "orders_bikes.drop_duplicates(inplace=True)\n"
      ],
      "metadata": {
        "id": "zjBNU-6Sudpb"
      },
      "execution_count": 35,
      "outputs": []
    },
    {
      "cell_type": "markdown",
      "source": [
        "# 10. Cap Outliers Using IQR Method\n",
        "Cap extreme values in **quantity** and **price** using the Interquartile Range (IQR) method:\n",
        "- Compute Q1, Q3, and IQR\n",
        "- Replace values above the upper limit with the upper limit\n"
      ],
      "metadata": {
        "id": "THylAQ5SxrUT"
      }
    },
    {
      "cell_type": "code",
      "source": [
        "# Cap extreme outliers using IQR method\n",
        "Q1 = orders_bikes['quantity'].quantile(0.25)\n",
        "Q3 = orders_bikes['quantity'].quantile(0.75)\n",
        "IQR = Q3 - Q1\n",
        "upper_limit_q = Q3 + 1.5 * IQR\n",
        "orders_bikes['quantity'] = np.where(orders_bikes['quantity'] > upper_limit_q, upper_limit_q, orders_bikes['quantity'])\n",
        "\n",
        "Q1_p = orders_bikes['price'].quantile(0.25)\n",
        "Q3_p = orders_bikes['price'].quantile(0.75)\n",
        "IQR_p = Q3_p - Q1_p\n",
        "upper_limit_p = Q3_p + 1.5 * IQR_p\n",
        "orders_bikes['price'] = np.where(orders_bikes['price'] > upper_limit_p, upper_limit_p, orders_bikes['price'])\n"
      ],
      "metadata": {
        "id": "OnOodPu_unu6"
      },
      "execution_count": 36,
      "outputs": []
    },
    {
      "cell_type": "markdown",
      "source": [
        "# 11. Save the Cleaned Dataset\n",
        "Export the cleaned data as `orders_bikes_cleaned.csv` for further analysis (EDA).\n"
      ],
      "metadata": {
        "id": "O44FLogMxuTy"
      }
    },
    {
      "cell_type": "code",
      "source": [
        "orders_bikes.to_csv('/content/drive/My Drive/FDS-Project/data/orders_bikes_cleaned.csv', index=False)\n"
      ],
      "metadata": {
        "id": "Zjl1nKNJurD6"
      },
      "execution_count": 37,
      "outputs": []
    }
  ]
}